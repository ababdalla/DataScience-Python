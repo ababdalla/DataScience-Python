{
 "cells": [
  {
   "cell_type": "code",
   "execution_count": 4,
   "id": "3d5be039-2bc2-4231-81a4-e76c4d482880",
   "metadata": {},
   "outputs": [
    {
     "data": {
      "text/plain": [
       "Index(['Suburb', 'Address', 'Rooms', 'Type', 'Price', 'Method', 'SellerG',\n",
       "       'Date', 'Distance', 'Postcode', 'Bedroom2', 'Bathroom', 'Car',\n",
       "       'Landsize', 'BuildingArea', 'YearBuilt', 'CouncilArea', 'Lattitude',\n",
       "       'Longtitude', 'Regionname', 'Propertycount'],\n",
       "      dtype='object')"
      ]
     },
     "execution_count": 4,
     "metadata": {},
     "output_type": "execute_result"
    }
   ],
   "source": [
    "datos.head()\n",
    "datos.columns"
   ]
  },
  {
   "cell_type": "code",
   "execution_count": 9,
   "id": "bff42486-f3c4-41bc-8aeb-ba8dea43b471",
   "metadata": {},
   "outputs": [],
   "source": [
    "columnas = ['Rooms','Distance','Landsize','BuildingArea','YearBuilt']"
   ]
  },
  {
   "cell_type": "code",
   "execution_count": 10,
   "id": "1199dafe-a843-4eb4-89e8-fa54a6a82cfb",
   "metadata": {},
   "outputs": [],
   "source": [
    "X = datos[columnas]\n",
    "y = datos.Price"
   ]
  },
  {
   "cell_type": "code",
   "execution_count": 11,
   "id": "373aa296-9c97-4249-bc1a-329154dc1aaa",
   "metadata": {},
   "outputs": [],
   "source": [
    "from sklearn.ensemble import RandomForestRegressor\n",
    "from sklearn.pipeline import Pipeline\n",
    "from sklearn.impute import SimpleImputer"
   ]
  },
  {
   "cell_type": "code",
   "execution_count": 15,
   "id": "6921a42b-f015-4c67-8767-cf02732ea838",
   "metadata": {},
   "outputs": [
    {
     "ename": "SyntaxError",
     "evalue": "incomplete input (1222295379.py, line 4)",
     "output_type": "error",
     "traceback": [
      "\u001b[0;36m  Input \u001b[0;32mIn [15]\u001b[0;36m\u001b[0m\n\u001b[0;31m    )]\u001b[0m\n\u001b[0m      ^\u001b[0m\n\u001b[0;31mSyntaxError\u001b[0m\u001b[0;31m:\u001b[0m incomplete input\n"
     ]
    }
   ],
   "source": [
    "pipeline = Pipeline(steps = [('preporcessor', SimpleImputer()),\n",
    "                             ('model', RandomForestRegressor(n_estimators=50,\n",
    "                                                            )\n",
    "                             )]"
   ]
  }
 ],
 "metadata": {
  "kernelspec": {
   "display_name": "Python 3 (ipykernel)",
   "language": "python",
   "name": "python3"
  },
  "language_info": {
   "codemirror_mode": {
    "name": "ipython",
    "version": 3
   },
   "file_extension": ".py",
   "mimetype": "text/x-python",
   "name": "python",
   "nbconvert_exporter": "python",
   "pygments_lexer": "ipython3",
   "version": "3.10.4"
  }
 },
 "nbformat": 4,
 "nbformat_minor": 5
}
